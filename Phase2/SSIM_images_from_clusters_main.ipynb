{
  "nbformat": 4,
  "nbformat_minor": 0,
  "metadata": {
    "colab": {
      "provenance": []
    },
    "kernelspec": {
      "name": "python3",
      "display_name": "Python 3"
    },
    "language_info": {
      "name": "python"
    }
  },
  "cells": [
    {
      "cell_type": "code",
      "source": [
        "!pip install scikit-image --upgrade\n",
        "!pip install --upgrade Pillow"
      ],
      "metadata": {
        "colab": {
          "base_uri": "https://localhost:8080/"
        },
        "id": "LgJSd39fWj02",
        "outputId": "33c7810f-de0d-424c-e391-996e004a73ac"
      },
      "execution_count": 7,
      "outputs": [
        {
          "output_type": "stream",
          "name": "stdout",
          "text": [
            "Looking in indexes: https://pypi.org/simple, https://us-python.pkg.dev/colab-wheels/public/simple/\n",
            "Requirement already satisfied: scikit-image in /usr/local/lib/python3.9/dist-packages (0.20.0)\n",
            "Requirement already satisfied: networkx>=2.8 in /usr/local/lib/python3.9/dist-packages (from scikit-image) (3.0)\n",
            "Requirement already satisfied: pillow>=9.0.1 in /usr/local/lib/python3.9/dist-packages (from scikit-image) (9.5.0)\n",
            "Requirement already satisfied: tifffile>=2019.7.26 in /usr/local/lib/python3.9/dist-packages (from scikit-image) (2023.3.21)\n",
            "Requirement already satisfied: imageio>=2.4.1 in /usr/local/lib/python3.9/dist-packages (from scikit-image) (2.25.1)\n",
            "Requirement already satisfied: PyWavelets>=1.1.1 in /usr/local/lib/python3.9/dist-packages (from scikit-image) (1.4.1)\n",
            "Requirement already satisfied: lazy_loader>=0.1 in /usr/local/lib/python3.9/dist-packages (from scikit-image) (0.2)\n",
            "Requirement already satisfied: packaging>=20.0 in /usr/local/lib/python3.9/dist-packages (from scikit-image) (23.0)\n",
            "Requirement already satisfied: numpy>=1.21.1 in /usr/local/lib/python3.9/dist-packages (from scikit-image) (1.22.4)\n",
            "Requirement already satisfied: scipy<1.9.2,>=1.8 in /usr/local/lib/python3.9/dist-packages (from scikit-image) (1.9.1)\n",
            "Looking in indexes: https://pypi.org/simple, https://us-python.pkg.dev/colab-wheels/public/simple/\n",
            "Requirement already satisfied: Pillow in /usr/local/lib/python3.9/dist-packages (9.5.0)\n"
          ]
        }
      ]
    },
    {
      "cell_type": "markdown",
      "source": [
        "# Testing for single images using mutual infomation"
      ],
      "metadata": {
        "id": "rouEcOAuroFH"
      }
    },
    {
      "cell_type": "code",
      "source": [
        "#Mutual Information\n",
        "import cv2\n",
        "import numpy as np\n",
        "from sklearn.metrics import mutual_info_score\n",
        "import os\n",
        "\n",
        "# Load query image\n",
        "query_img = cv2.imread(\"/content/sample_data/data/dancing_10.jpg\", cv2.IMREAD_GRAYSCALE)\n",
        "\n",
        "# Load dataset images and extract SIFT features\n",
        "sift = cv2.xfeatures2d.SIFT_create(nfeatures=1000)\n",
        "\n",
        "# Set same SIFT parameters for query and dataset images\n",
        "kp_query, des_query = sift.detectAndCompute(query_img, None)\n",
        "dataset_features = []\n",
        "\n",
        "# Load images from dataset folder and extract SIFT features\n",
        "dataset_path = '/content/sample_data/data'\n",
        "for filename in os.listdir(dataset_path):\n",
        "    img = cv2.imread(os.path.join(dataset_path, filename), cv2.IMREAD_GRAYSCALE)\n",
        "    kp, des = sift.detectAndCompute(img, None)\n",
        "    dataset_features.append(des)\n",
        "\n",
        "# Stack dataset features into a NumPy array\n",
        "dataset_features = np.vstack(dataset_features)\n",
        "\n",
        "# Flatten query and dataset features\n",
        "des_query = des_query.ravel()\n",
        "dataset_features = dataset_features.ravel()\n",
        "\n",
        "# Calculate mutual information score\n",
        "print(len(des_query),len(dataset_features))\n",
        "mi_score = mutual_info_score(des_query, dataset_features[:len(des_query)])\n",
        "\n",
        "print(\"Mutual information score:\", mi_score)\n"
      ],
      "metadata": {
        "colab": {
          "base_uri": "https://localhost:8080/"
        },
        "id": "QIkDoZbQgwzf",
        "outputId": "687835e7-b901-4ea9-eded-070160bd6442"
      },
      "execution_count": 8,
      "outputs": [
        {
          "output_type": "stream",
          "name": "stdout",
          "text": [
            "128000 3570048\n",
            "Mutual information score: 0.15055666374991106\n"
          ]
        }
      ]
    },
    {
      "cell_type": "code",
      "source": [
        "#Mutual Information\n",
        "import cv2\n",
        "from sklearn.metrics import mutual_info_score\n",
        "import os\n",
        "\n",
        "# Load the query image and convert to grayscale\n",
        "query_img = cv2.imread('/content/sample_data/data/dancing_9.jpg')\n",
        "query_img_gray = cv2.cvtColor(query_img, cv2.COLOR_BGR2GRAY)\n",
        "\n",
        "# Convert the query image to a cv::UMat object\n",
        "query_img_um = cv2.UMat(query_img_gray)\n",
        "\n",
        "# Initialize SIFT feature extractor\n",
        "sift = cv2.SIFT_create()\n",
        "\n",
        "# Calculate mutual information between the query image and each image in the dataset folder\n",
        "dataset_folder = '/content/sample_data/data'\n",
        "mi_scores = []\n",
        "for img_file in os.listdir(dataset_folder):\n",
        "    if img_file.endswith('.jpg') or img_file.endswith('.png'):\n",
        "        # Load the dataset image and convert to grayscale\n",
        "        dataset_img = cv2.imread(os.path.join(dataset_folder, img_file))\n",
        "        dataset_img_gray = cv2.cvtColor(dataset_img, cv2.COLOR_BGR2GRAY)\n",
        "\n",
        "        # Convert the dataset image to a cv::UMat object\n",
        "        dataset_img_um = cv2.UMat(dataset_img_gray)\n",
        "\n",
        "        # Extract SIFT features from the query image and calculate mutual information\n",
        "        kp_query, des_query = sift.detectAndCompute(query_img_um, None)\n",
        "        kp_dataset, des_dataset = sift.detectAndCompute(dataset_img_um, None)\n",
        "        des_query = des_query.get().ravel()\n",
        "        dataset_features = des_dataset.get().ravel()\n",
        "        # mi_score = mutual_info_score(des_query.get().ravel(), des_dataset.get().ravel())\n",
        "        min_length = min(len(des_query),len(dataset_features))\n",
        "        mi_score = mutual_info_score(des_query[:min_length], dataset_features[:min_length])\n",
        "        mi_scores.append(mi_score)\n",
        "\n",
        "# Rank the images in the dataset based on the mutual information scores and retrieve the top-k images\n",
        "top_k = 5\n",
        "top_k_indices = sorted(range(len(mi_scores)), key=lambda i: mi_scores[i], reverse=True)[:top_k]\n",
        "top_k_images = [os.listdir(dataset_folder)[i] for i in top_k_indices]\n",
        "\n",
        "# Print the top-k images\n",
        "print(\"Top-k images:\", top_k_images)\n"
      ],
      "metadata": {
        "colab": {
          "base_uri": "https://localhost:8080/"
        },
        "id": "0nApU-kEcurv",
        "outputId": "6b1012a6-7858-49ea-b8fc-329c43b05515"
      },
      "execution_count": 9,
      "outputs": [
        {
          "output_type": "stream",
          "name": "stdout",
          "text": [
            "Top-k images: ['dancing_9.jpg', 'dancing_32.jpg', 'dancing_12.jpg', 'dancing_19.jpg', 'dancing_24.jpg']\n"
          ]
        }
      ]
    },
    {
      "cell_type": "markdown",
      "source": [
        "# SSIM"
      ],
      "metadata": {
        "id": "MOm5LO_0tAtz"
      }
    },
    {
      "cell_type": "code",
      "source": [
        "# #SSIM\n",
        "# from skimage import io, img_as_float\n",
        "# from skimage.metrics import structural_similarity as ssim\n",
        "# from skimage.transform import resize\n",
        "\n",
        "# # Load the reference and comparison images\n",
        "# image_ref = img_as_float(io.imread('/content/sample_data/data/dancing_11.jpg'))\n",
        "# image_comp = img_as_float(io.imread('/content/sample_data/data/dancing_12.jpg'))\n",
        "\n",
        "# image_ref = resize(image_ref, image_comp.shape, anti_aliasing=True)\n",
        "# image_comp = resize(image_comp, image_ref.shape, anti_aliasing=True)\n",
        "\n",
        "# # Calculate the SSIM between the two images\n",
        "# ssim_index = ssim(image_ref, image_comp, win_size=3, multichannel=True)\n",
        "\n",
        "# print(\"SSIM index:\", ssim_index)\n"
      ],
      "metadata": {
        "id": "sXsykG1pV_Kj"
      },
      "execution_count": 10,
      "outputs": []
    },
    {
      "cell_type": "code",
      "source": [
        "#SSIM\n",
        "import os\n",
        "import numpy as np\n",
        "from PIL import Image\n",
        "from skimage.metrics import structural_similarity as ssim\n",
        "\n",
        "# Define the query image and its dimensions\n",
        "query_image = 'query_image.jpg'\n",
        "height, width = 256, 256\n",
        "\n",
        "# Define the query image and its dimensions\n",
        "query_image = '/content/sample_data/data/dancing_10.jpg'\n",
        "# Define the dataset directory\n",
        "dataset_dir = '/content/sample_data/data'\n",
        "\n",
        "# Initialize an empty list to store the SSIM indices for each image in the dataset\n",
        "ssim_indices = []\n",
        "\n",
        "# Load the query image and resize it to the desired dimensions\n",
        "query_image = Image.open(query_image).resize((height, width)).convert('RGB')\n",
        "\n",
        "# Loop over all images in the dataset directory and calculate their SSIM index with the query image\n",
        "for filename in os.listdir(dataset_dir):\n",
        "    # Load the image from file and resize it to the same size as the query image\n",
        "    image = Image.open(os.path.join(dataset_dir, filename)).resize((height, width)).convert('RGB')\n",
        "    # Calculate the SSIM index between the query image and the current image in the dataset\n",
        "    ssim_index = ssim(np.array(query_image), np.array(image), win_size=3, multichannel=True)\n",
        "    # Append the SSIM index and the image filename to the ssim_indices list\n",
        "    ssim_indices.append((ssim_index, filename))\n",
        "print(ssim_indices[:1])\n",
        "# Sort the ssim_indices list in descending order based on the SSIM index and select the top 5 images\n",
        "top_5_images = sorted(ssim_indices, reverse=True)[:5]\n",
        "\n",
        "# Print the filenames of the top 5 images and their corresponding SSIM indices\n",
        "for ssim_index, filename in top_5_images:\n",
        "    print(f'{filename}: {ssim_index:.4f}')\n"
      ],
      "metadata": {
        "colab": {
          "base_uri": "https://localhost:8080/"
        },
        "id": "LCjJsS2Kb51d",
        "outputId": "977602cb-a905-44f2-9dc5-49bb678caeae"
      },
      "execution_count": 11,
      "outputs": [
        {
          "output_type": "stream",
          "name": "stderr",
          "text": [
            "<ipython-input-11-36ac92236d72>:27: FutureWarning: `multichannel` is a deprecated argument name for `structural_similarity`. It will be removed in version 1.0. Please use `channel_axis` instead.\n",
            "  ssim_index = ssim(np.array(query_image), np.array(image), win_size=3, multichannel=True)\n"
          ]
        },
        {
          "output_type": "stream",
          "name": "stdout",
          "text": [
            "[(0.34872852964381185, 'dancing_21.jpg')]\n",
            "dancing_10.jpg: 1.0000\n",
            "dancing_17.jpg: 0.3670\n",
            "dancing_2.jpg: 0.3617\n",
            "dancing_21.jpg: 0.3487\n",
            "dancing_15.jpg: 0.3005\n"
          ]
        }
      ]
    },
    {
      "cell_type": "code",
      "source": [],
      "metadata": {
        "id": "Q2ZNhl2sjO2m"
      },
      "execution_count": 11,
      "outputs": []
    }
  ]
}